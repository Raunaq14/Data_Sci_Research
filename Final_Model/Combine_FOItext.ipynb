{
  "nbformat": 4,
  "nbformat_minor": 0,
  "metadata": {
    "colab": {
      "provenance": [],
      "machine_shape": "hm",
      "mount_file_id": "1iMYhehQRzUZ5GiUZ1ajOMburPWlWNdTO",
      "authorship_tag": "ABX9TyPJ1BM8qdecEauSJhqKyEuY",
      "include_colab_link": true
    },
    "kernelspec": {
      "name": "python3",
      "display_name": "Python 3"
    },
    "language_info": {
      "name": "python"
    }
  },
  "cells": [
    {
      "cell_type": "markdown",
      "metadata": {
        "id": "view-in-github",
        "colab_type": "text"
      },
      "source": [
        "<a href=\"https://colab.research.google.com/github/Raunaq14/Data_Sci_Research/blob/main/Combine_FOItext.ipynb\" target=\"_parent\"><img src=\"https://colab.research.google.com/assets/colab-badge.svg\" alt=\"Open In Colab\"/></a>"
      ]
    },
    {
      "cell_type": "code",
      "source": [
        "from google.colab import drive\n",
        "drive.mount('/content/drive')"
      ],
      "metadata": {
        "colab": {
          "base_uri": "https://localhost:8080/"
        },
        "id": "sYWg37jf4g4_",
        "outputId": "7e601a10-93f3-4324-ffe1-3953cba0bcb1"
      },
      "execution_count": null,
      "outputs": [
        {
          "output_type": "stream",
          "name": "stdout",
          "text": [
            "Mounted at /content/drive\n"
          ]
        }
      ]
    },
    {
      "cell_type": "code",
      "execution_count": null,
      "metadata": {
        "colab": {
          "base_uri": "https://localhost:8080/"
        },
        "id": "Lewb-vN34duR",
        "outputId": "88ddcda9-d4b1-4ac2-9ce0-8f8412cca9ce"
      },
      "outputs": [
        {
          "output_type": "stream",
          "name": "stdout",
          "text": [
            "🔄 Processing FOI Text for 2023...\n",
            "📂 Extracted to /content/drive/MyDrive/Extracted_FDA_Data/extracted_foitext/foitext2023\n",
            "⚠️ No valid files were found for year 2023.\n",
            "🔄 Processing FOI Text for 2024...\n",
            "📂 Extracted to /content/drive/MyDrive/Extracted_FDA_Data/extracted_foitext/foitext2024\n",
            "✅ Loaded with pipe: foitext2024.txt\n",
            "✅ Saved combined FOI Text for 2024: /content/drive/MyDrive/Extracted_FDA_Data/final_merged_data/foitext_2024.csv\n"
          ]
        }
      ],
      "source": [
        "import zipfile\n",
        "import pandas as pd\n",
        "import os\n",
        "from glob import glob\n",
        "\n",
        "def process_foitext_year(year):\n",
        "    print(f\"🔄 Processing FOI Text for {year}...\")\n",
        "\n",
        "    zip_path = f\"{zip_dir}/foitext{year}.zip\"\n",
        "    output_dir = f\"{extract_dir}/foitext{year}\"\n",
        "    os.makedirs(output_dir, exist_ok=True)\n",
        "\n",
        "    # Unzip files\n",
        "    with zipfile.ZipFile(zip_path, 'r') as zip_ref:\n",
        "        zip_ref.extractall(output_dir)\n",
        "    print(f\"📂 Extracted to {output_dir}\")\n",
        "\n",
        "    all_files = glob(f\"{output_dir}/*.txt\") + glob(f\"{output_dir}/*.csv\")\n",
        "    dfs = []\n",
        "\n",
        "    for file in all_files:\n",
        "        try:\n",
        "            # Try default comma-separated\n",
        "            df = pd.read_csv(file, encoding='latin1', low_memory=False)\n",
        "            print(f\"✅ Loaded with comma: {os.path.basename(file)}\")\n",
        "        except pd.errors.ParserError:\n",
        "            try:\n",
        "                # Try pipe-separated\n",
        "                df = pd.read_csv(file, sep='|', encoding='ISO-8859-1', low_memory=False)\n",
        "                print(f\"✅ Loaded with pipe: {os.path.basename(file)}\")\n",
        "            except Exception as e:\n",
        "                print(f\"❌ Skipped {os.path.basename(file)}: {e}\")\n",
        "                continue\n",
        "        dfs.append(df)\n",
        "\n",
        "    if dfs:\n",
        "        combined_df = pd.concat(dfs, ignore_index=True)\n",
        "        save_path = f\"{final_save_dir}/foitext_{year}.csv\"\n",
        "        combined_df.to_csv(save_path, index=False)\n",
        "        print(f\"✅ Saved combined FOI Text for {year}: {save_path}\")\n",
        "    else:\n",
        "        print(f\"⚠️ No valid files were found for year {year}.\")\n",
        "\n",
        "# Base paths (reused)\n",
        "zip_dir = \"/content/drive/MyDrive/Extracted_FDA_Data/zip\"\n",
        "extract_dir = \"/content/drive/MyDrive/Extracted_FDA_Data/extracted_foitext\"\n",
        "final_save_dir = \"/content/drive/MyDrive/Extracted_FDA_Data/final_merged_data\"\n",
        "os.makedirs(extract_dir, exist_ok=True)\n",
        "os.makedirs(final_save_dir, exist_ok=True)\n",
        "\n",
        "# Run for both years\n",
        "process_foitext_year(2023)\n",
        "process_foitext_year(2024)"
      ]
    },
    {
      "cell_type": "code",
      "source": [
        "import pandas as pd\n",
        "\n",
        "# Manually extracted FOI file path\n",
        "foi_2023_path = \"/content/drive/MyDrive/Extracted_FDA_Data/extracted_foitext/foitext2023/foitext2023.txt\"\n",
        "save_path = \"/content/drive/MyDrive/Extracted_FDA_Data/final_merged_data/foitext_2023.csv\"\n",
        "\n",
        "# Load using pipe separator\n",
        "foi_2023_df = pd.read_csv(foi_2023_path, sep='|', encoding='ISO-8859-1', on_bad_lines='skip', low_memory=False)\n",
        "\n",
        "# Save to CSV\n",
        "foi_2023_df.to_csv(save_path, index=False)\n",
        "\n",
        "print(\"✅ FOI Text 2023 saved to:\", save_path)"
      ],
      "metadata": {
        "colab": {
          "base_uri": "https://localhost:8080/"
        },
        "id": "T6fQHog15goI",
        "outputId": "4418ece9-c76a-4fa3-be6d-429e015efbf5"
      },
      "execution_count": null,
      "outputs": [
        {
          "output_type": "stream",
          "name": "stdout",
          "text": [
            "✅ FOI Text 2023 saved to: /content/drive/MyDrive/Extracted_FDA_Data/final_merged_data/foitext_2023.csv\n"
          ]
        }
      ]
    },
    {
      "cell_type": "code",
      "source": [
        "from google.colab import drive\n",
        "drive.mount('/content/drive')\n",
        "\n",
        "import pandas as pd\n",
        "\n",
        "def merge_device_mdr_foi(year):\n",
        "    print(f\"🔄 Merging data for {year}...\")\n",
        "\n",
        "    device_mdr_path = f\"/content/drive/MyDrive/Extracted_FDA_Data/final_merged_data/final_data_{year}.csv\"\n",
        "    foi_path = f\"/content/drive/MyDrive/Extracted_FDA_Data/final_merged_data/foitext_{year}.csv\"\n",
        "    output_path = f\"/content/drive/MyDrive/Extracted_FDA_Data/final_merged_data/final_data_with_foi_{year}.csv\"\n",
        "\n",
        "    # Load datasets\n",
        "    device_df = pd.read_csv(device_mdr_path, dtype=str, low_memory=False)\n",
        "    foi_df = pd.read_csv(foi_path, dtype=str, low_memory=False)\n",
        "\n",
        "    # Check for key column\n",
        "    if 'MDR_REPORT_KEY' not in device_df.columns or 'MDR_REPORT_KEY' not in foi_df.columns:\n",
        "        raise KeyError(\"MDR_REPORT_KEY missing in one of the datasets\")\n",
        "\n",
        "    # Merge on MDR_REPORT_KEY (left join to preserve device+mdr structure)\n",
        "    merged_df = pd.merge(device_df, foi_df, how='left', on='MDR_REPORT_KEY')\n",
        "\n",
        "    # Save final merged file\n",
        "    merged_df.to_csv(output_path, index=False)\n",
        "    print(f\"✅ Merged and saved: {output_path}\")\n",
        "\n",
        "# Run for both years\n",
        "#merge_device_mdr_foi(2023)\n",
        "merge_device_mdr_foi(2024)"
      ],
      "metadata": {
        "colab": {
          "base_uri": "https://localhost:8080/"
        },
        "id": "3ouzytSX_Nxm",
        "outputId": "a3c352d0-5930-4392-ee2e-4c7b0d7738ea"
      },
      "execution_count": null,
      "outputs": [
        {
          "output_type": "stream",
          "name": "stdout",
          "text": [
            "Drive already mounted at /content/drive; to attempt to forcibly remount, call drive.mount(\"/content/drive\", force_remount=True).\n",
            "🔄 Merging data for 2024...\n",
            "✅ Merged and saved: /content/drive/MyDrive/Extracted_FDA_Data/final_merged_data/final_data_with_foi_2024.csv\n"
          ]
        }
      ]
    },
    {
      "cell_type": "code",
      "source": [],
      "metadata": {
        "id": "m9nYMYwiApCD"
      },
      "execution_count": null,
      "outputs": []
    }
  ]
}
