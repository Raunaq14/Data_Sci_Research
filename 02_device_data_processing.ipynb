{
  "nbformat": 4,
  "nbformat_minor": 0,
  "metadata": {
    "colab": {
      "provenance": [],
      "authorship_tag": "ABX9TyPKTStNXEVpcq7O1w/GDr7S",
      "include_colab_link": true
    },
    "kernelspec": {
      "name": "python3",
      "display_name": "Python 3"
    },
    "language_info": {
      "name": "python"
    }
  },
  "cells": [
    {
      "cell_type": "markdown",
      "metadata": {
        "id": "view-in-github",
        "colab_type": "text"
      },
      "source": [
        "<a href=\"https://colab.research.google.com/github/Raunaq14/Data_Sci_Research/blob/main/02_device_data_processing.ipynb\" target=\"_parent\"><img src=\"https://colab.research.google.com/assets/colab-badge.svg\" alt=\"Open In Colab\"/></a>"
      ]
    },
    {
      "cell_type": "code",
      "execution_count": 1,
      "metadata": {
        "colab": {
          "base_uri": "https://localhost:8080/"
        },
        "id": "_0nmt6987RuX",
        "outputId": "27b60ef3-e25c-44f7-b011-69970a2b3912"
      },
      "outputs": [
        {
          "output_type": "stream",
          "name": "stdout",
          "text": [
            "Drive already mounted at /content/drive; to attempt to forcibly remount, call drive.mount(\"/content/drive\", force_remount=True).\n"
          ]
        }
      ],
      "source": [
        "from google.colab import drive\n",
        "drive.mount('/content/drive')"
      ]
    },
    {
      "cell_type": "code",
      "source": [
        "import zipfile\n",
        "import os\n",
        "import pandas as pd"
      ],
      "metadata": {
        "id": "bnYj7KIq7ZSY"
      },
      "execution_count": 2,
      "outputs": []
    },
    {
      "cell_type": "code",
      "source": [
        "# Paths\n",
        "zip_base = \"/content/drive/MyDrive/FDA_Data\"\n",
        "extract_base = \"/content/drive/MyDrive/Extracted_FDA_Data\"\n",
        "\n",
        "device_zips = {\n",
        "    \"2023\": os.path.join(zip_base, \"device2023.zip\"),\n",
        "    \"2024\": os.path.join(zip_base, \"device2024.zip\")\n",
        "}\n"
      ],
      "metadata": {
        "id": "ihBrK4vT_gT0"
      },
      "execution_count": 3,
      "outputs": []
    },
    {
      "cell_type": "code",
      "source": [
        "for year, zip_path in device_zips.items():\n",
        "    extract_path = os.path.join(extract_base, f\"device_{year}\")\n",
        "    os.makedirs(extract_path, exist_ok=True)\n",
        "\n",
        "    with zipfile.ZipFile(zip_path, 'r') as zip_ref:\n",
        "        zip_ref.extractall(extract_path)\n",
        "\n",
        "    # Look for .txt file inside extracted folder\n",
        "    txt_files = [f for f in os.listdir(extract_path) if f.endswith(\".txt\")]\n",
        "\n",
        "    if txt_files:\n",
        "        extracted_file = os.path.join(extract_path, txt_files[0])\n",
        "        renamed_file = os.path.join(extract_base, f\"device_{year}.txt\")\n",
        "        os.rename(extracted_file, renamed_file)\n",
        "        print(f\"✅ Extracted and renamed: {txt_files[0]} → device_{year}.txt\")\n",
        "    else:\n",
        "        print(f\"⚠️ No .txt file found in {extract_path}\")"
      ],
      "metadata": {
        "colab": {
          "base_uri": "https://localhost:8080/"
        },
        "id": "7TXZWJ5f7gRB",
        "outputId": "ed2d27c8-593f-4408-9329-992c5f0b12ed"
      },
      "execution_count": 14,
      "outputs": [
        {
          "output_type": "stream",
          "name": "stdout",
          "text": [
            "✅ Extracted and renamed: DEVICE2023.txt → device_2023.txt\n",
            "✅ Extracted and renamed: DEVICE2024.txt → device_2024.txt\n"
          ]
        }
      ]
    },
    {
      "cell_type": "code",
      "source": [
        "# Paths\n",
        "device_dir = \"/content/drive/MyDrive/Extracted_FDA_Data\"\n",
        "mdr_dir = \"/content/drive/MyDrive/Extracted_FDA_Data/yearly_mdr\"\n",
        "output_dir = \"/content/drive/MyDrive/Extracted_FDA_Data/final_merged_data\"\n",
        "os.makedirs(output_dir, exist_ok=True)\n",
        "\n",
        "# Process 2023 and 2024\n",
        "for year in [\"2023\", \"2024\"]:\n",
        "    device_path = os.path.join(device_dir, f\"device_{year}.txt\")\n",
        "    mdr_path = os.path.join(mdr_dir, f\"mdr_{year}.csv\")\n",
        "    output_path = os.path.join(output_dir, f\"final_data_{year}.csv\")\n",
        "\n",
        "    print(f\"\\n🔄 Processing year {year}...\")\n",
        "\n",
        "    # Load files\n",
        "    df_device = pd.read_csv(device_path, sep='|', dtype=str, encoding='ISO-8859-1', low_memory=False, on_bad_lines='skip')\n",
        "    df_mdr = pd.read_csv(mdr_path, dtype=str, encoding='ISO-8859-1', low_memory=False)\n",
        "\n",
        "    # Filter device entries that exist in mdr\n",
        "    keys = df_mdr['MDR_REPORT_KEY'].dropna().unique()\n",
        "    df_device_filtered = df_device[df_device['MDR_REPORT_KEY'].isin(keys)]\n",
        "\n",
        "    print(f\"🔗 Merging {len(df_device_filtered)} device rows with {len(df_mdr)} MDR rows...\")\n",
        "\n",
        "    df_final = df_device_filtered.merge(df_mdr, on='MDR_REPORT_KEY', how='left')\n",
        "\n",
        "    # Save output\n",
        "    df_final.to_csv(output_path, index=False)\n",
        "    print(f\"✅ Saved: {output_path}\")"
      ],
      "metadata": {
        "colab": {
          "base_uri": "https://localhost:8080/"
        },
        "id": "7ipOmZ3b-PjM",
        "outputId": "717bf841-6f83-4211-b1d4-51ecce344d64"
      },
      "execution_count": 4,
      "outputs": [
        {
          "output_type": "stream",
          "name": "stdout",
          "text": [
            "\n",
            "🔄 Processing year 2023...\n",
            "🔗 Merging 892974 device rows with 891940 MDR rows...\n",
            "✅ Saved: /content/drive/MyDrive/Extracted_FDA_Data/final_merged_data/final_data_2023.csv\n",
            "\n",
            "🔄 Processing year 2024...\n",
            "🔗 Merging 2625952 device rows with 2627139 MDR rows...\n",
            "✅ Saved: /content/drive/MyDrive/Extracted_FDA_Data/final_merged_data/final_data_2024.csv\n"
          ]
        }
      ]
    },
    {
      "cell_type": "code",
      "source": [],
      "metadata": {
        "id": "vRRf0ByZBFrf"
      },
      "execution_count": null,
      "outputs": []
    }
  ]
}